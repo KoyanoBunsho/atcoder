{
 "cells": [
  {
   "cell_type": "code",
   "execution_count": 1,
   "metadata": {},
   "outputs": [
    {
     "name": "stdout",
     "output_type": "stream",
     "text": [
      "\n"
     ]
    }
   ],
   "source": [
    "import sys\n",
    "import numpy as np\n",
    "\n",
    "read = sys.stdin.buffer.read\n",
    "readline = sys.stdin.buffer.readline\n",
    "readlines = sys.stdin.buffer.readlines\n",
    "\n",
    "def from_read(dtype=np.int64):\n",
    "    return np.fromstring(read().decode(), dtype=dtype, sep=' ')\n",
    "\n",
    "\n",
    "def from_readline(dtype=np.int64):\n",
    "    return np.fromstring(readline().decode(), dtype=dtype, sep=' ')\n",
    "\n",
    "def main(P):\n",
    "    P = np.append(0, P)\n",
    "    pos = np.zeros_like(P)\n",
    "    N = len(P)\n",
    "    for i in range(N):\n",
    "        pos[P[i]] = i\n",
    "    use = np.zeros(N - 1, np.bool_)\n",
    "    ans = []\n",
    "    A = P\n",
    "    for x in range(N - 1, 0, -1):\n",
    "        if pos[x] == x:\n",
    "            continue\n",
    "        p = pos[x]\n",
    "        for i in range(p, x):\n",
    "            A[i], A[i + 1] = A[i + 1], A[i]\n",
    "            pos[A[i]] = i\n",
    "            pos[A[i + 1]] = i + 1\n",
    "            if use[i]:\n",
    "                return False, ans\n",
    "            use[i] = 1\n",
    "            ans.append(i)\n",
    "    return np.all(use[1:]), ans\n",
    "\n",
    "P = from_read()[1:]\n",
    "\n",
    "bl, ans = main(P)\n",
    "if bl:\n",
    "    print(*ans)\n",
    "else:\n",
    "    print(-1)"
   ]
  },
  {
   "cell_type": "code",
   "execution_count": 16,
   "metadata": {},
   "outputs": [
    {
     "name": "stdout",
     "output_type": "stream",
     "text": [
      "2 4 1 5 3\n",
      "4 2 3 1\n"
     ]
    }
   ],
   "source": [
    "def main(P):\n",
    "    P = np.append(0, P)\n",
    "    N = len(P)\n",
    "    pos = [0] * N\n",
    "    for i in range(N):\n",
    "        pos[P[i]]=i\n",
    "    use = np.zeros(N-1)\n",
    "    A = P\n",
    "    ans = []\n",
    "    for x in range(N-1, 0, -1):\n",
    "        if pos[x] == x:\n",
    "            continue\n",
    "        p = pos[x]\n",
    "        for i in range(p, x):\n",
    "            A[i], A[i+1]=A[i+1], A[i]\n",
    "            pos[A[i]] = i\n",
    "            pos[A[i+1]]=i+1\n",
    "            if use[i]:\n",
    "                return False, ans\n",
    "            use[i]=1\n",
    "            ans.append(i)\n",
    "    return np.all(use[1:]), ans\n",
    "P = list(map(int, input().split()))\n",
    "bi, res = main(P)\n",
    "if bi:\n",
    "    print(*res)\n",
    "else:\n",
    "    print(-1)"
   ]
  },
  {
   "cell_type": "code",
   "execution_count": 27,
   "metadata": {},
   "outputs": [
    {
     "name": "stdout",
     "output_type": "stream",
     "text": [
      "2 4 1 5 3\n",
      "4 2 3 1\n"
     ]
    }
   ],
   "source": [
    "def main(P):\n",
    "    P = np.append(0, P)\n",
    "    N = len(P)\n",
    "    use = np.zeros(N-1)\n",
    "    ans = []\n",
    "    pos = [0]*N\n",
    "    A = P\n",
    "    for i in range(N):\n",
    "        pos[P[i]]=i\n",
    "    for x in range(N-1, 0, -1):\n",
    "        if pos[x] == x:\n",
    "            continue\n",
    "        p = pos[x]\n",
    "        for i in range(p, x):\n",
    "            A[i+1], A[i] = A[i], A[i+1]\n",
    "            pos[A[i]] = i\n",
    "            pos[A[i+1]] = i+1\n",
    "            if use[i]:\n",
    "                return False, ans\n",
    "            use[i] = 1\n",
    "            ans.append(i)\n",
    "    return np.all(use[1:]), ans, use\n",
    "P = list(map(int, input().split()))\n",
    "bi, ans, use = main(P)\n",
    "if bi:\n",
    "    print(*ans)\n",
    "else:\n",
    "    print(-1)"
   ]
  },
  {
   "cell_type": "code",
   "execution_count": 30,
   "metadata": {},
   "outputs": [
    {
     "name": "stdout",
     "output_type": "stream",
     "text": [
      "2 4 1 5 3\n",
      "4\n",
      "2\n",
      "3\n",
      "1\n",
      "4 2 3 1\n"
     ]
    }
   ],
   "source": [
    "def main(P):\n",
    "    P = np.append(0, P)\n",
    "    A = P\n",
    "    N = len(P)\n",
    "    pos = [0]*N\n",
    "    use = np.zeros(N-1)\n",
    "    ans = []\n",
    "    for i in range(N):\n",
    "        pos[P[i]]=i\n",
    "    for x in range(N-1, 0, -1):\n",
    "        if pos[x] == x:\n",
    "            continue\n",
    "        p = pos[x]\n",
    "        for i in range(p, x):\n",
    "            A [i], A[i+1] = A[i+1], A[i]\n",
    "            pos[A[i+1]] = i+1\n",
    "            pos[A[i]] = i\n",
    "            print(i)\n",
    "            if use[i]:\n",
    "                return False, ans\n",
    "            use[i] = 1\n",
    "            ans.append(i)\n",
    "    return np.all(use[1:]), ans\n",
    "P = list(map(int, input().split()))\n",
    "bi, ans = main(P)\n",
    "if bi:\n",
    "    print(*ans)\n",
    "else:\n",
    "    print(-1)"
   ]
  },
  {
   "cell_type": "code",
   "execution_count": null,
   "metadata": {},
   "outputs": [],
   "source": []
  }
 ],
 "metadata": {
  "kernelspec": {
   "display_name": "Python 3",
   "language": "python",
   "name": "python3"
  },
  "language_info": {
   "codemirror_mode": {
    "name": "ipython",
    "version": 3
   },
   "file_extension": ".py",
   "mimetype": "text/x-python",
   "name": "python",
   "nbconvert_exporter": "python",
   "pygments_lexer": "ipython3",
   "version": "3.8.1"
  }
 },
 "nbformat": 4,
 "nbformat_minor": 4
}
